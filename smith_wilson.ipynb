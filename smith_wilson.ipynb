{
 "cells": [
  {
   "cell_type": "code",
   "execution_count": 1,
   "metadata": {},
   "outputs": [],
   "source": [
    "import pandas as pd\n",
    "import numpy as np\n",
    "import math\n",
    "from scipy.linalg import expm, sinm, cosm"
   ]
  },
  {
   "cell_type": "code",
   "execution_count": 2,
   "metadata": {},
   "outputs": [
    {
     "data": {
      "text/html": [
       "<div>\n",
       "<style scoped>\n",
       "    .dataframe tbody tr th:only-of-type {\n",
       "        vertical-align: middle;\n",
       "    }\n",
       "\n",
       "    .dataframe tbody tr th {\n",
       "        vertical-align: top;\n",
       "    }\n",
       "\n",
       "    .dataframe thead th {\n",
       "        text-align: right;\n",
       "    }\n",
       "</style>\n",
       "<table border=\"1\" class=\"dataframe\">\n",
       "  <thead>\n",
       "    <tr style=\"text-align: right;\">\n",
       "      <th></th>\n",
       "      <th>Maturity</th>\n",
       "      <th>Coupon</th>\n",
       "      <th>Price</th>\n",
       "    </tr>\n",
       "  </thead>\n",
       "  <tbody>\n",
       "    <tr>\n",
       "      <th>0</th>\n",
       "      <td>1</td>\n",
       "      <td>0.010</td>\n",
       "      <td>1</td>\n",
       "    </tr>\n",
       "    <tr>\n",
       "      <th>1</th>\n",
       "      <td>2</td>\n",
       "      <td>0.020</td>\n",
       "      <td>1</td>\n",
       "    </tr>\n",
       "    <tr>\n",
       "      <th>2</th>\n",
       "      <td>3</td>\n",
       "      <td>0.026</td>\n",
       "      <td>1</td>\n",
       "    </tr>\n",
       "    <tr>\n",
       "      <th>3</th>\n",
       "      <td>5</td>\n",
       "      <td>0.034</td>\n",
       "      <td>1</td>\n",
       "    </tr>\n",
       "  </tbody>\n",
       "</table>\n",
       "</div>"
      ],
      "text/plain": [
       "   Maturity  Coupon  Price\n",
       "0         1   0.010      1\n",
       "1         2   0.020      1\n",
       "2         3   0.026      1\n",
       "3         5   0.034      1"
      ]
     },
     "execution_count": 2,
     "metadata": {},
     "output_type": "execute_result"
    }
   ],
   "source": [
    "bonds=pd.read_csv(\"bonds.csv\")\n",
    "bonds"
   ]
  },
  {
   "cell_type": "code",
   "execution_count": 3,
   "metadata": {},
   "outputs": [
    {
     "data": {
      "text/plain": [
       "5"
      ]
     },
     "execution_count": 3,
     "metadata": {},
     "output_type": "execute_result"
    }
   ],
   "source": [
    "bonds['Maturity'].max()"
   ]
  },
  {
   "cell_type": "markdown",
   "metadata": {},
   "source": [
    "## Get Bond Cashflows. \n",
    "### Coupon + Principal"
   ]
  },
  {
   "cell_type": "code",
   "execution_count": 4,
   "metadata": {},
   "outputs": [
    {
     "data": {
      "text/html": [
       "<div>\n",
       "<style scoped>\n",
       "    .dataframe tbody tr th:only-of-type {\n",
       "        vertical-align: middle;\n",
       "    }\n",
       "\n",
       "    .dataframe tbody tr th {\n",
       "        vertical-align: top;\n",
       "    }\n",
       "\n",
       "    .dataframe thead th {\n",
       "        text-align: right;\n",
       "    }\n",
       "</style>\n",
       "<table border=\"1\" class=\"dataframe\">\n",
       "  <thead>\n",
       "    <tr style=\"text-align: right;\">\n",
       "      <th></th>\n",
       "      <th>1</th>\n",
       "      <th>2</th>\n",
       "      <th>3</th>\n",
       "      <th>4</th>\n",
       "    </tr>\n",
       "  </thead>\n",
       "  <tbody>\n",
       "    <tr>\n",
       "      <th>0</th>\n",
       "      <td>NaN</td>\n",
       "      <td>NaN</td>\n",
       "      <td>NaN</td>\n",
       "      <td>NaN</td>\n",
       "    </tr>\n",
       "    <tr>\n",
       "      <th>1</th>\n",
       "      <td>NaN</td>\n",
       "      <td>NaN</td>\n",
       "      <td>NaN</td>\n",
       "      <td>NaN</td>\n",
       "    </tr>\n",
       "    <tr>\n",
       "      <th>2</th>\n",
       "      <td>NaN</td>\n",
       "      <td>NaN</td>\n",
       "      <td>NaN</td>\n",
       "      <td>NaN</td>\n",
       "    </tr>\n",
       "    <tr>\n",
       "      <th>3</th>\n",
       "      <td>NaN</td>\n",
       "      <td>NaN</td>\n",
       "      <td>NaN</td>\n",
       "      <td>NaN</td>\n",
       "    </tr>\n",
       "    <tr>\n",
       "      <th>4</th>\n",
       "      <td>NaN</td>\n",
       "      <td>NaN</td>\n",
       "      <td>NaN</td>\n",
       "      <td>NaN</td>\n",
       "    </tr>\n",
       "  </tbody>\n",
       "</table>\n",
       "</div>"
      ],
      "text/plain": [
       "     1    2    3    4\n",
       "0  NaN  NaN  NaN  NaN\n",
       "1  NaN  NaN  NaN  NaN\n",
       "2  NaN  NaN  NaN  NaN\n",
       "3  NaN  NaN  NaN  NaN\n",
       "4  NaN  NaN  NaN  NaN"
      ]
     },
     "execution_count": 4,
     "metadata": {},
     "output_type": "execute_result"
    }
   ],
   "source": [
    "cf=pd.DataFrame(index=range(bonds['Maturity'].max()),columns=range(1,len(bonds)+1))\n",
    "cf"
   ]
  },
  {
   "cell_type": "code",
   "execution_count": 5,
   "metadata": {},
   "outputs": [
    {
     "data": {
      "text/html": [
       "<div>\n",
       "<style scoped>\n",
       "    .dataframe tbody tr th:only-of-type {\n",
       "        vertical-align: middle;\n",
       "    }\n",
       "\n",
       "    .dataframe tbody tr th {\n",
       "        vertical-align: top;\n",
       "    }\n",
       "\n",
       "    .dataframe thead th {\n",
       "        text-align: right;\n",
       "    }\n",
       "</style>\n",
       "<table border=\"1\" class=\"dataframe\">\n",
       "  <thead>\n",
       "    <tr style=\"text-align: right;\">\n",
       "      <th></th>\n",
       "      <th>1</th>\n",
       "      <th>2</th>\n",
       "      <th>3</th>\n",
       "      <th>4</th>\n",
       "    </tr>\n",
       "  </thead>\n",
       "  <tbody>\n",
       "    <tr>\n",
       "      <th>0</th>\n",
       "      <td>0.01</td>\n",
       "      <td>0.02</td>\n",
       "      <td>0.026</td>\n",
       "      <td>0.034</td>\n",
       "    </tr>\n",
       "    <tr>\n",
       "      <th>1</th>\n",
       "      <td>0.00</td>\n",
       "      <td>0.02</td>\n",
       "      <td>0.026</td>\n",
       "      <td>0.034</td>\n",
       "    </tr>\n",
       "    <tr>\n",
       "      <th>2</th>\n",
       "      <td>0.00</td>\n",
       "      <td>0.00</td>\n",
       "      <td>0.026</td>\n",
       "      <td>0.034</td>\n",
       "    </tr>\n",
       "    <tr>\n",
       "      <th>3</th>\n",
       "      <td>0.00</td>\n",
       "      <td>0.00</td>\n",
       "      <td>0.000</td>\n",
       "      <td>0.034</td>\n",
       "    </tr>\n",
       "    <tr>\n",
       "      <th>4</th>\n",
       "      <td>0.00</td>\n",
       "      <td>0.00</td>\n",
       "      <td>0.000</td>\n",
       "      <td>0.034</td>\n",
       "    </tr>\n",
       "  </tbody>\n",
       "</table>\n",
       "</div>"
      ],
      "text/plain": [
       "      1     2      3      4\n",
       "0  0.01  0.02  0.026  0.034\n",
       "1  0.00  0.02  0.026  0.034\n",
       "2  0.00  0.00  0.026  0.034\n",
       "3  0.00  0.00  0.000  0.034\n",
       "4  0.00  0.00  0.000  0.034"
      ]
     },
     "execution_count": 5,
     "metadata": {},
     "output_type": "execute_result"
    }
   ],
   "source": [
    "for i in range(0,len(bonds)):\n",
    "    mat=bonds['Maturity'][i]\n",
    "    cf.iloc[0:mat,i]=bonds['Coupon'][i]\n",
    "cf.fillna(0,inplace=True)\n",
    "cf"
   ]
  },
  {
   "cell_type": "code",
   "execution_count": 6,
   "metadata": {},
   "outputs": [
    {
     "data": {
      "text/html": [
       "<div>\n",
       "<style scoped>\n",
       "    .dataframe tbody tr th:only-of-type {\n",
       "        vertical-align: middle;\n",
       "    }\n",
       "\n",
       "    .dataframe tbody tr th {\n",
       "        vertical-align: top;\n",
       "    }\n",
       "\n",
       "    .dataframe thead th {\n",
       "        text-align: right;\n",
       "    }\n",
       "</style>\n",
       "<table border=\"1\" class=\"dataframe\">\n",
       "  <thead>\n",
       "    <tr style=\"text-align: right;\">\n",
       "      <th></th>\n",
       "      <th>1</th>\n",
       "      <th>2</th>\n",
       "      <th>3</th>\n",
       "      <th>4</th>\n",
       "    </tr>\n",
       "  </thead>\n",
       "  <tbody>\n",
       "    <tr>\n",
       "      <th>0</th>\n",
       "      <td>NaN</td>\n",
       "      <td>NaN</td>\n",
       "      <td>NaN</td>\n",
       "      <td>NaN</td>\n",
       "    </tr>\n",
       "    <tr>\n",
       "      <th>1</th>\n",
       "      <td>NaN</td>\n",
       "      <td>NaN</td>\n",
       "      <td>NaN</td>\n",
       "      <td>NaN</td>\n",
       "    </tr>\n",
       "    <tr>\n",
       "      <th>2</th>\n",
       "      <td>NaN</td>\n",
       "      <td>NaN</td>\n",
       "      <td>NaN</td>\n",
       "      <td>NaN</td>\n",
       "    </tr>\n",
       "    <tr>\n",
       "      <th>3</th>\n",
       "      <td>NaN</td>\n",
       "      <td>NaN</td>\n",
       "      <td>NaN</td>\n",
       "      <td>NaN</td>\n",
       "    </tr>\n",
       "    <tr>\n",
       "      <th>4</th>\n",
       "      <td>NaN</td>\n",
       "      <td>NaN</td>\n",
       "      <td>NaN</td>\n",
       "      <td>NaN</td>\n",
       "    </tr>\n",
       "  </tbody>\n",
       "</table>\n",
       "</div>"
      ],
      "text/plain": [
       "     1    2    3    4\n",
       "0  NaN  NaN  NaN  NaN\n",
       "1  NaN  NaN  NaN  NaN\n",
       "2  NaN  NaN  NaN  NaN\n",
       "3  NaN  NaN  NaN  NaN\n",
       "4  NaN  NaN  NaN  NaN"
      ]
     },
     "execution_count": 6,
     "metadata": {},
     "output_type": "execute_result"
    }
   ],
   "source": [
    "principal=pd.DataFrame(index=range(bonds['Maturity'].max()),columns=range(1,len(bonds)+1))\n",
    "principal"
   ]
  },
  {
   "cell_type": "code",
   "execution_count": 7,
   "metadata": {},
   "outputs": [
    {
     "data": {
      "text/html": [
       "<div>\n",
       "<style scoped>\n",
       "    .dataframe tbody tr th:only-of-type {\n",
       "        vertical-align: middle;\n",
       "    }\n",
       "\n",
       "    .dataframe tbody tr th {\n",
       "        vertical-align: top;\n",
       "    }\n",
       "\n",
       "    .dataframe thead th {\n",
       "        text-align: right;\n",
       "    }\n",
       "</style>\n",
       "<table border=\"1\" class=\"dataframe\">\n",
       "  <thead>\n",
       "    <tr style=\"text-align: right;\">\n",
       "      <th></th>\n",
       "      <th>1</th>\n",
       "      <th>2</th>\n",
       "      <th>3</th>\n",
       "      <th>4</th>\n",
       "    </tr>\n",
       "  </thead>\n",
       "  <tbody>\n",
       "    <tr>\n",
       "      <th>0</th>\n",
       "      <td>1</td>\n",
       "      <td>0</td>\n",
       "      <td>0</td>\n",
       "      <td>0</td>\n",
       "    </tr>\n",
       "    <tr>\n",
       "      <th>1</th>\n",
       "      <td>0</td>\n",
       "      <td>1</td>\n",
       "      <td>0</td>\n",
       "      <td>0</td>\n",
       "    </tr>\n",
       "    <tr>\n",
       "      <th>2</th>\n",
       "      <td>0</td>\n",
       "      <td>0</td>\n",
       "      <td>1</td>\n",
       "      <td>0</td>\n",
       "    </tr>\n",
       "    <tr>\n",
       "      <th>3</th>\n",
       "      <td>0</td>\n",
       "      <td>0</td>\n",
       "      <td>0</td>\n",
       "      <td>0</td>\n",
       "    </tr>\n",
       "    <tr>\n",
       "      <th>4</th>\n",
       "      <td>0</td>\n",
       "      <td>0</td>\n",
       "      <td>0</td>\n",
       "      <td>1</td>\n",
       "    </tr>\n",
       "  </tbody>\n",
       "</table>\n",
       "</div>"
      ],
      "text/plain": [
       "   1  2  3  4\n",
       "0  1  0  0  0\n",
       "1  0  1  0  0\n",
       "2  0  0  1  0\n",
       "3  0  0  0  0\n",
       "4  0  0  0  1"
      ]
     },
     "execution_count": 7,
     "metadata": {},
     "output_type": "execute_result"
    }
   ],
   "source": [
    "for i in range(0,len(bonds)):\n",
    "    mat=bonds['Maturity'][i]\n",
    "    principal.iloc[mat-1,i]=1\n",
    "principal.fillna(0,inplace=True)\n",
    "principal"
   ]
  },
  {
   "cell_type": "code",
   "execution_count": 8,
   "metadata": {},
   "outputs": [
    {
     "data": {
      "text/html": [
       "<div>\n",
       "<style scoped>\n",
       "    .dataframe tbody tr th:only-of-type {\n",
       "        vertical-align: middle;\n",
       "    }\n",
       "\n",
       "    .dataframe tbody tr th {\n",
       "        vertical-align: top;\n",
       "    }\n",
       "\n",
       "    .dataframe thead th {\n",
       "        text-align: right;\n",
       "    }\n",
       "</style>\n",
       "<table border=\"1\" class=\"dataframe\">\n",
       "  <thead>\n",
       "    <tr style=\"text-align: right;\">\n",
       "      <th></th>\n",
       "      <th>1</th>\n",
       "      <th>2</th>\n",
       "      <th>3</th>\n",
       "      <th>4</th>\n",
       "    </tr>\n",
       "  </thead>\n",
       "  <tbody>\n",
       "    <tr>\n",
       "      <th>0</th>\n",
       "      <td>1.01</td>\n",
       "      <td>0.02</td>\n",
       "      <td>0.026</td>\n",
       "      <td>0.034</td>\n",
       "    </tr>\n",
       "    <tr>\n",
       "      <th>1</th>\n",
       "      <td>0.00</td>\n",
       "      <td>1.02</td>\n",
       "      <td>0.026</td>\n",
       "      <td>0.034</td>\n",
       "    </tr>\n",
       "    <tr>\n",
       "      <th>2</th>\n",
       "      <td>0.00</td>\n",
       "      <td>0.00</td>\n",
       "      <td>1.026</td>\n",
       "      <td>0.034</td>\n",
       "    </tr>\n",
       "    <tr>\n",
       "      <th>3</th>\n",
       "      <td>0.00</td>\n",
       "      <td>0.00</td>\n",
       "      <td>0.000</td>\n",
       "      <td>0.034</td>\n",
       "    </tr>\n",
       "    <tr>\n",
       "      <th>4</th>\n",
       "      <td>0.00</td>\n",
       "      <td>0.00</td>\n",
       "      <td>0.000</td>\n",
       "      <td>1.034</td>\n",
       "    </tr>\n",
       "  </tbody>\n",
       "</table>\n",
       "</div>"
      ],
      "text/plain": [
       "      1     2      3      4\n",
       "0  1.01  0.02  0.026  0.034\n",
       "1  0.00  1.02  0.026  0.034\n",
       "2  0.00  0.00  1.026  0.034\n",
       "3  0.00  0.00  0.000  0.034\n",
       "4  0.00  0.00  0.000  1.034"
      ]
     },
     "execution_count": 8,
     "metadata": {},
     "output_type": "execute_result"
    }
   ],
   "source": [
    "C=principal+cf\n",
    "C"
   ]
  },
  {
   "cell_type": "markdown",
   "metadata": {},
   "source": [
    "## Create the Time Matrix (T) and Maturity Matrix (U)"
   ]
  },
  {
   "cell_type": "code",
   "execution_count": 9,
   "metadata": {},
   "outputs": [
    {
     "data": {
      "text/plain": [
       "array([1, 2, 3, 4, 5])"
      ]
     },
     "execution_count": 9,
     "metadata": {},
     "output_type": "execute_result"
    }
   ],
   "source": [
    "np.array(list(range(1,bonds['Maturity'].max()+1)))"
   ]
  },
  {
   "cell_type": "code",
   "execution_count": 10,
   "metadata": {},
   "outputs": [
    {
     "data": {
      "text/plain": [
       "array([[1, 2, 3, 4, 5],\n",
       "       [1, 2, 3, 4, 5],\n",
       "       [1, 2, 3, 4, 5],\n",
       "       [1, 2, 3, 4, 5],\n",
       "       [1, 2, 3, 4, 5]])"
      ]
     },
     "execution_count": 10,
     "metadata": {},
     "output_type": "execute_result"
    }
   ],
   "source": [
    "T=[]\n",
    "for i in range(0,bonds['Maturity'].max()):\n",
    "    T.append(list(range(1,len(bonds)+2)))\n",
    "T=np.array(T)\n",
    "T"
   ]
  },
  {
   "cell_type": "code",
   "execution_count": 11,
   "metadata": {},
   "outputs": [
    {
     "data": {
      "text/plain": [
       "array([[1, 1, 1, 1, 1],\n",
       "       [2, 2, 2, 2, 2],\n",
       "       [3, 3, 3, 3, 3],\n",
       "       [4, 4, 4, 4, 4],\n",
       "       [5, 5, 5, 5, 5]])"
      ]
     },
     "execution_count": 11,
     "metadata": {},
     "output_type": "execute_result"
    }
   ],
   "source": [
    "U=T.transpose()\n",
    "U"
   ]
  },
  {
   "cell_type": "markdown",
   "metadata": {},
   "source": [
    "## Compute t+u, min(t,u), max(t,u) for W"
   ]
  },
  {
   "cell_type": "code",
   "execution_count": 12,
   "metadata": {},
   "outputs": [],
   "source": [
    "min_tuj=np.minimum(T,U)\n",
    "max_tuj=np.maximum(T,U)\n",
    "tuj=T+U"
   ]
  },
  {
   "cell_type": "code",
   "execution_count": 13,
   "metadata": {},
   "outputs": [
    {
     "data": {
      "text/plain": [
       "0    1\n",
       "1    1\n",
       "2    1\n",
       "3    1\n",
       "Name: Price, dtype: int64"
      ]
     },
     "execution_count": 13,
     "metadata": {},
     "output_type": "execute_result"
    }
   ],
   "source": [
    "ufr=math.log(1+0.042)\n",
    "a=0.1\n",
    "m=bonds['Price']\n",
    "m"
   ]
  },
  {
   "cell_type": "markdown",
   "metadata": {},
   "source": [
    "## Compute mu and W"
   ]
  },
  {
   "cell_type": "code",
   "execution_count": 14,
   "metadata": {},
   "outputs": [
    {
     "data": {
      "text/plain": [
       "array([0.9596929 , 0.92101046, 0.8838872 , 0.84826027, 0.81406935])"
      ]
     },
     "execution_count": 14,
     "metadata": {},
     "output_type": "execute_result"
    }
   ],
   "source": [
    "mu=np.exp(-ufr*T[1])\n",
    "mu"
   ]
  },
  {
   "cell_type": "code",
   "execution_count": 15,
   "metadata": {},
   "outputs": [
    {
     "data": {
      "text/plain": [
       "array([[0.00862561, 0.01590149, 0.02188057, 0.02674724, 0.03066104],\n",
       "       [0.01590149, 0.02982485, 0.04139268, 0.05081327, 0.05839446],\n",
       "       [0.02188057, 0.04139268, 0.05813003, 0.07188306, 0.08296295],\n",
       "       [0.02674724, 0.05081327, 0.07188306, 0.08970176, 0.1041795 ],\n",
       "       [0.03066104, 0.05839446, 0.08296295, 0.1041795 , 0.12189849]])"
      ]
     },
     "execution_count": 15,
     "metadata": {},
     "output_type": "execute_result"
    }
   ],
   "source": [
    "second=(a*min_tuj)-(0.5*np.exp(-a*max_tuj))*(np.exp(a*min_tuj)-np.exp(-a*min_tuj))\n",
    "W=np.exp(-ufr*tuj)*second\n",
    "W"
   ]
  },
  {
   "cell_type": "markdown",
   "metadata": {},
   "source": [
    "## Compute Zeta"
   ]
  },
  {
   "cell_type": "code",
   "execution_count": 16,
   "metadata": {},
   "outputs": [],
   "source": [
    "first_term=np.linalg.inv(C.T@W@C)\n",
    "sec_term=m-(C.T@mu).reset_index(drop=True)"
   ]
  },
  {
   "cell_type": "code",
   "execution_count": 17,
   "metadata": {},
   "outputs": [
    {
     "data": {
      "text/plain": [
       "array([ 57.79068821, -33.50720775,  11.39647259,  -5.46696784])"
      ]
     },
     "execution_count": 17,
     "metadata": {},
     "output_type": "execute_result"
    }
   ],
   "source": [
    "zeta=first_term@sec_term\n",
    "zeta"
   ]
  },
  {
   "cell_type": "markdown",
   "metadata": {},
   "source": [
    "## Build curve extend to 50 years"
   ]
  },
  {
   "cell_type": "code",
   "execution_count": 18,
   "metadata": {},
   "outputs": [],
   "source": [
    "K=50"
   ]
  },
  {
   "cell_type": "code",
   "execution_count": 19,
   "metadata": {},
   "outputs": [
    {
     "data": {
      "text/plain": [
       "(50, 5)"
      ]
     },
     "execution_count": 19,
     "metadata": {},
     "output_type": "execute_result"
    }
   ],
   "source": [
    "T=[]\n",
    "for i in range(0,K):\n",
    "    T.append(list(range(1,len(bonds)+2)))\n",
    "T=np.array(T)\n",
    "T.shape"
   ]
  },
  {
   "cell_type": "code",
   "execution_count": 20,
   "metadata": {},
   "outputs": [
    {
     "data": {
      "text/plain": [
       "[array([1., 1., 1., 1., 1.]),\n",
       " array([2., 2., 2., 2., 2.]),\n",
       " array([3., 3., 3., 3., 3.]),\n",
       " array([4., 4., 4., 4., 4.]),\n",
       " array([5., 5., 5., 5., 5.]),\n",
       " array([6., 6., 6., 6., 6.]),\n",
       " array([7., 7., 7., 7., 7.]),\n",
       " array([8., 8., 8., 8., 8.]),\n",
       " array([9., 9., 9., 9., 9.]),\n",
       " array([10., 10., 10., 10., 10.]),\n",
       " array([11., 11., 11., 11., 11.]),\n",
       " array([12., 12., 12., 12., 12.]),\n",
       " array([13., 13., 13., 13., 13.]),\n",
       " array([14., 14., 14., 14., 14.]),\n",
       " array([15., 15., 15., 15., 15.]),\n",
       " array([16., 16., 16., 16., 16.]),\n",
       " array([17., 17., 17., 17., 17.]),\n",
       " array([18., 18., 18., 18., 18.]),\n",
       " array([19., 19., 19., 19., 19.]),\n",
       " array([20., 20., 20., 20., 20.]),\n",
       " array([21., 21., 21., 21., 21.]),\n",
       " array([22., 22., 22., 22., 22.]),\n",
       " array([23., 23., 23., 23., 23.]),\n",
       " array([24., 24., 24., 24., 24.]),\n",
       " array([25., 25., 25., 25., 25.]),\n",
       " array([26., 26., 26., 26., 26.]),\n",
       " array([27., 27., 27., 27., 27.]),\n",
       " array([28., 28., 28., 28., 28.]),\n",
       " array([29., 29., 29., 29., 29.]),\n",
       " array([30., 30., 30., 30., 30.]),\n",
       " array([31., 31., 31., 31., 31.]),\n",
       " array([32., 32., 32., 32., 32.]),\n",
       " array([33., 33., 33., 33., 33.]),\n",
       " array([34., 34., 34., 34., 34.]),\n",
       " array([35., 35., 35., 35., 35.]),\n",
       " array([36., 36., 36., 36., 36.]),\n",
       " array([37., 37., 37., 37., 37.]),\n",
       " array([38., 38., 38., 38., 38.]),\n",
       " array([39., 39., 39., 39., 39.]),\n",
       " array([40., 40., 40., 40., 40.]),\n",
       " array([41., 41., 41., 41., 41.]),\n",
       " array([42., 42., 42., 42., 42.]),\n",
       " array([43., 43., 43., 43., 43.]),\n",
       " array([44., 44., 44., 44., 44.]),\n",
       " array([45., 45., 45., 45., 45.]),\n",
       " array([46., 46., 46., 46., 46.]),\n",
       " array([47., 47., 47., 47., 47.]),\n",
       " array([48., 48., 48., 48., 48.]),\n",
       " array([49., 49., 49., 49., 49.]),\n",
       " array([50., 50., 50., 50., 50.])]"
      ]
     },
     "execution_count": 20,
     "metadata": {},
     "output_type": "execute_result"
    }
   ],
   "source": [
    "U=[]\n",
    "for i in range(1,K+1):\n",
    "    U.append((np.ones(5))*i)\n",
    "U"
   ]
  },
  {
   "cell_type": "code",
   "execution_count": 21,
   "metadata": {},
   "outputs": [],
   "source": [
    "min_tuj=np.minimum(T,U)\n",
    "max_tuj=np.maximum(T,U)\n",
    "tuj=T+U"
   ]
  },
  {
   "cell_type": "code",
   "execution_count": 22,
   "metadata": {},
   "outputs": [
    {
     "data": {
      "text/plain": [
       "array([[0.00862561, 0.01590149, 0.02188057, 0.02674724, 0.03066104],\n",
       "       [0.01590149, 0.02982485, 0.04139268, 0.05081327, 0.05839446],\n",
       "       [0.02188057, 0.04139268, 0.05813003, 0.07188306, 0.08296295],\n",
       "       [0.02674724, 0.05081327, 0.07188306, 0.08970176, 0.1041795 ],\n",
       "       [0.03066104, 0.05839446, 0.08296295, 0.1041795 , 0.12189849],\n",
       "       [0.03375997, 0.06440253, 0.09175636, 0.11569197, 0.13611407],\n",
       "       [0.03616339, 0.06906773, 0.09859763, 0.12467223, 0.14723864],\n",
       "       [0.03797445, 0.07258909, 0.10377577, 0.13149457, 0.15572825],\n",
       "       [0.03928223, 0.07513853, 0.10754044, 0.13648239, 0.16197693],\n",
       "       [0.04016367, 0.07686447, 0.11010719, 0.13991492, 0.16632494],\n",
       "       [0.04068512, 0.07789498, 0.11166203, 0.14203311, 0.16906594],\n",
       "       [0.04090382, 0.07834048, 0.11236532, 0.14304474, 0.17045317],\n",
       "       [0.04086905, 0.07829608, 0.11235524, 0.14312883, 0.17070484],\n",
       "       [0.04062323, 0.07784366, 0.1117507 , 0.14243949, 0.17000886],\n",
       "       [0.04020284, 0.07705361, 0.11065397, 0.14110927, 0.16852682],\n",
       "       [0.03963919, 0.07598638, 0.10915289, 0.13925202, 0.16639757],\n",
       "       [0.03895914, 0.07469382, 0.10732281, 0.13696541, 0.16374026],\n",
       "       [0.03818571, 0.07322034, 0.10522824, 0.13433312, 0.16065699],\n",
       "       [0.03733856, 0.0716039 , 0.10292439, 0.13142672, 0.15723508],\n",
       "       [0.03643445, 0.0698769 , 0.10045835, 0.12830731, 0.15354913],\n",
       "       [0.0354877 , 0.06806692, 0.09787022, 0.12502693, 0.14966269],\n",
       "       [0.03451041, 0.06619741, 0.09519409, 0.12162981, 0.14562979],\n",
       "       [0.03351287, 0.06428819, 0.09245882, 0.11815343, 0.14149623],\n",
       "       [0.03250374, 0.06235602, 0.08968878, 0.11462945, 0.13730073],\n",
       "       [0.03149032, 0.06041497, 0.08690445, 0.11108448, 0.13307585],\n",
       "       [0.03047868, 0.05847681, 0.08412299, 0.10754084, 0.12884891],\n",
       "       [0.0294739 , 0.05655136, 0.08135869, 0.10401711, 0.12464269],\n",
       "       [0.02848018, 0.0546467 , 0.07862334, 0.10052866, 0.12047605],\n",
       "       [0.02750093, 0.05276949, 0.07592664, 0.09708813, 0.11636449],\n",
       "       [0.02653895, 0.0509251 , 0.07327646, 0.09370578, 0.11232066],\n",
       "       [0.02559646, 0.04911785, 0.0706791 , 0.09038987, 0.10835473],\n",
       "       [0.02467521, 0.04735115, 0.06813954, 0.08714692, 0.10447475],\n",
       "       [0.02377655, 0.04562761, 0.06566163, 0.08398197, 0.100687  ],\n",
       "       [0.02290148, 0.04394918, 0.06324824, 0.08089883, 0.09699619],\n",
       "       [0.02205073, 0.04231725, 0.06090143, 0.07790021, 0.09340577],\n",
       "       [0.02122474, 0.04073273, 0.05862255, 0.07498795, 0.08991804],\n",
       "       [0.02042378, 0.03919613, 0.05641237, 0.07216311, 0.0865344 ],\n",
       "       [0.01964792, 0.03770761, 0.05427117, 0.0694261 , 0.08325547],\n",
       "       [0.0188971 , 0.03626707, 0.05219882, 0.06677681, 0.08008119],\n",
       "       [0.01817113, 0.03487414, 0.05019484, 0.06421469, 0.07701096],\n",
       "       [0.01746972, 0.03352829, 0.04825848, 0.06173879, 0.07404373],\n",
       "       [0.0167925 , 0.03222882, 0.04638873, 0.0593479 , 0.07117809],\n",
       "       [0.01613903, 0.03097488, 0.04458441, 0.05704052, 0.06841232],\n",
       "       [0.01550882, 0.02976555, 0.04284421, 0.05481499, 0.06574443],\n",
       "       [0.01490134, 0.0285998 , 0.04116666, 0.05266948, 0.06317229],\n",
       "       [0.01431602, 0.02747657, 0.03955023, 0.05060203, 0.06069357],\n",
       "       [0.01375228, 0.02639472, 0.03799331, 0.04861061, 0.05830587],\n",
       "       [0.01320951, 0.0253531 , 0.03649424, 0.04669311, 0.05600669],\n",
       "       [0.0126871 , 0.02435053, 0.03505134, 0.04484739, 0.05379347],\n",
       "       [0.01218443, 0.02338583, 0.03366291, 0.04307128, 0.05166364]])"
      ]
     },
     "execution_count": 22,
     "metadata": {},
     "output_type": "execute_result"
    }
   ],
   "source": [
    "second=(a*min_tuj)-(0.5*np.exp(-a*max_tuj))*(np.exp(a*min_tuj)-np.exp(-a*min_tuj))\n",
    "W=np.exp(-ufr*tuj)*second\n",
    "W"
   ]
  },
  {
   "cell_type": "code",
   "execution_count": 23,
   "metadata": {},
   "outputs": [
    {
     "data": {
      "text/plain": [
       "(50, 5)"
      ]
     },
     "execution_count": 23,
     "metadata": {},
     "output_type": "execute_result"
    }
   ],
   "source": [
    "W.shape"
   ]
  },
  {
   "cell_type": "code",
   "execution_count": 24,
   "metadata": {},
   "outputs": [],
   "source": [
    "from matplotlib import pyplot as plt"
   ]
  },
  {
   "cell_type": "code",
   "execution_count": 25,
   "metadata": {},
   "outputs": [
    {
     "data": {
      "text/plain": [
       "[<matplotlib.lines.Line2D at 0x20472719610>,\n",
       " <matplotlib.lines.Line2D at 0x20472719640>,\n",
       " <matplotlib.lines.Line2D at 0x204727197c0>,\n",
       " <matplotlib.lines.Line2D at 0x20472719880>,\n",
       " <matplotlib.lines.Line2D at 0x20472719940>]"
      ]
     },
     "execution_count": 25,
     "metadata": {},
     "output_type": "execute_result"
    },
    {
     "data": {
      "image/png": "[encoded data removed]",
      "text/plain": [
       "<Figure size 432x288 with 1 Axes>"
      ]
     },
     "metadata": {
      "needs_background": "light"
     },
     "output_type": "display_data"
    }
   ],
   "source": [
    "plt.plot(W)"
   ]
  },
  {
   "cell_type": "code",
   "execution_count": 219,
   "metadata": {},
   "outputs": [],
   "source": [
    "#http://gli.lu/2017/12/smith-wilson-yield-curves/"
   ]
  },
  {
   "cell_type": "code",
   "execution_count": 26,
   "metadata": {},
   "outputs": [
    {
     "data": {
      "text/plain": [
       "(50,)"
      ]
     },
     "execution_count": 26,
     "metadata": {},
     "output_type": "execute_result"
    }
   ],
   "source": [
    "t_array=np.array(list(range(1,51)))\n",
    "A=np.exp(-ufr*t_array)\n",
    "A.shape #discount factors"
   ]
  },
  {
   "cell_type": "code",
   "execution_count": 27,
   "metadata": {},
   "outputs": [
    {
     "data": {
      "text/plain": [
       "(50, 5)"
      ]
     },
     "execution_count": 27,
     "metadata": {},
     "output_type": "execute_result"
    }
   ],
   "source": [
    "W.shape"
   ]
  },
  {
   "cell_type": "code",
   "execution_count": 28,
   "metadata": {},
   "outputs": [
    {
     "data": {
      "text/plain": [
       "(4,)"
      ]
     },
     "execution_count": 28,
     "metadata": {},
     "output_type": "execute_result"
    }
   ],
   "source": [
    "zeta.shape"
   ]
  },
  {
   "cell_type": "code",
   "execution_count": 29,
   "metadata": {},
   "outputs": [
    {
     "data": {
      "text/plain": [
       "(50,)"
      ]
     },
     "execution_count": 29,
     "metadata": {},
     "output_type": "execute_result"
    }
   ],
   "source": [
    "B=zeta.T@C.T@W.T\n",
    "B.shape"
   ]
  },
  {
   "cell_type": "code",
   "execution_count": 30,
   "metadata": {},
   "outputs": [
    {
     "data": {
      "text/plain": [
       "[<matplotlib.lines.Line2D at 0x204727d20a0>,\n",
       " <matplotlib.lines.Line2D at 0x204727d2190>,\n",
       " <matplotlib.lines.Line2D at 0x204727d2250>,\n",
       " <matplotlib.lines.Line2D at 0x204727d2310>]"
      ]
     },
     "execution_count": 30,
     "metadata": {},
     "output_type": "execute_result"
    },
    {
     "data": {
      "image/png": "[encoded data removed]",
      "text/plain": [
       "<Figure size 432x288 with 1 Axes>"
      ]
     },
     "metadata": {
      "needs_background": "light"
     },
     "output_type": "display_data"
    }
   ],
   "source": [
    "plt.plot((C.T@W.T).T)"
   ]
  },
  {
   "cell_type": "code",
   "execution_count": 31,
   "metadata": {},
   "outputs": [
    {
     "data": {
      "text/plain": [
       "[<matplotlib.lines.Line2D at 0x2047280b970>]"
      ]
     },
     "execution_count": 31,
     "metadata": {},
     "output_type": "execute_result"
    },
    {
     "data": {
      "image/png": "[encoded data removed]",
      "text/plain": [
       "<Figure size 432x288 with 1 Axes>"
      ]
     },
     "metadata": {
      "needs_background": "light"
     },
     "output_type": "display_data"
    }
   ],
   "source": [
    "plt.plot(A,label='A')\n",
    "plt.plot(B,label='B')\n",
    "\n",
    "#\"We see that the values of  B are almost negligible after a certain maturity t\n",
    "# and thus P(t) converges to A.\n",
    "#The interest rates converge therefore to the planned ultimate forward rate of \n",
    "#4.2 annually compounded.\""
   ]
  },
  {
   "cell_type": "code",
   "execution_count": 32,
   "metadata": {},
   "outputs": [
    {
     "data": {
      "text/plain": [
       "[<matplotlib.lines.Line2D at 0x2047287b8b0>]"
      ]
     },
     "execution_count": 32,
     "metadata": {},
     "output_type": "execute_result"
    },
    {
     "data": {
      "image/png": "[encoded data removed]",
      "text/plain": [
       "<Figure size 432x288 with 1 Axes>"
      ]
     },
     "metadata": {
      "needs_background": "light"
     },
     "output_type": "display_data"
    }
   ],
   "source": [
    "plt.plot(-1*np.log(A+B)/t_array)"
   ]
  },
  {
   "cell_type": "markdown",
   "metadata": {},
   "source": [
    "## Build curve extend to 100 years"
   ]
  },
  {
   "cell_type": "code",
   "execution_count": 39,
   "metadata": {},
   "outputs": [],
   "source": [
    "K=100"
   ]
  },
  {
   "cell_type": "code",
   "execution_count": 40,
   "metadata": {},
   "outputs": [],
   "source": [
    "T=[]\n",
    "for i in range(0,K):\n",
    "    T.append(list(range(1,len(bonds)+2)))\n",
    "T=np.array(T)\n",
    "\n",
    "U=[]\n",
    "for i in range(1,K+1):\n",
    "    U.append((np.ones(5))*i)"
   ]
  },
  {
   "cell_type": "code",
   "execution_count": 41,
   "metadata": {},
   "outputs": [],
   "source": [
    "min_tuj=np.minimum(T,U)\n",
    "max_tuj=np.maximum(T,U)\n",
    "tuj=T+U"
   ]
  },
  {
   "cell_type": "code",
   "execution_count": 42,
   "metadata": {},
   "outputs": [
    {
     "data": {
      "text/plain": [
       "(100, 5)"
      ]
     },
     "execution_count": 42,
     "metadata": {},
     "output_type": "execute_result"
    }
   ],
   "source": [
    "second=(a*min_tuj)-(0.5*np.exp(-a*max_tuj))*(np.exp(a*min_tuj)-np.exp(-a*min_tuj))\n",
    "W=np.exp(-ufr*tuj)*second\n",
    "W.shape"
   ]
  },
  {
   "cell_type": "code",
   "execution_count": 44,
   "metadata": {},
   "outputs": [],
   "source": [
    "t_array=np.array(list(range(1,101)))\n",
    "A=np.exp(-ufr*t_array) #discount factors\n",
    "B=zeta.T@C.T@W.T"
   ]
  },
  {
   "cell_type": "code",
   "execution_count": 45,
   "metadata": {},
   "outputs": [
    {
     "data": {
      "text/plain": [
       "[<matplotlib.lines.Line2D at 0x204729f2e50>]"
      ]
     },
     "execution_count": 45,
     "metadata": {},
     "output_type": "execute_result"
    },
    {
     "data": {
      "image/png": "[encoded data removed]",
      "text/plain": [
       "<Figure size 432x288 with 1 Axes>"
      ]
     },
     "metadata": {
      "needs_background": "light"
     },
     "output_type": "display_data"
    }
   ],
   "source": [
    "plt.plot(-1*np.log(A+B)/t_array)"
   ]
  },
  {
   "cell_type": "code",
   "execution_count": 49,
   "metadata": {},
   "outputs": [],
   "source": [
    "yields=-1*np.log(A+B)/t_array"
   ]
  },
  {
   "cell_type": "code",
   "execution_count": 53,
   "metadata": {},
   "outputs": [
    {
     "data": {
      "text/html": [
       "<div>\n",
       "<style scoped>\n",
       "    .dataframe tbody tr th:only-of-type {\n",
       "        vertical-align: middle;\n",
       "    }\n",
       "\n",
       "    .dataframe tbody tr th {\n",
       "        vertical-align: top;\n",
       "    }\n",
       "\n",
       "    .dataframe thead th {\n",
       "        text-align: right;\n",
       "    }\n",
       "</style>\n",
       "<table border=\"1\" class=\"dataframe\">\n",
       "  <thead>\n",
       "    <tr style=\"text-align: right;\">\n",
       "      <th></th>\n",
       "      <th>YC</th>\n",
       "    </tr>\n",
       "  </thead>\n",
       "  <tbody>\n",
       "    <tr>\n",
       "      <th>2021</th>\n",
       "      <td>0.009950</td>\n",
       "    </tr>\n",
       "    <tr>\n",
       "      <th>2022</th>\n",
       "      <td>0.019902</td>\n",
       "    </tr>\n",
       "    <tr>\n",
       "      <th>2023</th>\n",
       "      <td>0.025909</td>\n",
       "    </tr>\n",
       "    <tr>\n",
       "      <th>2024</th>\n",
       "      <td>0.030541</td>\n",
       "    </tr>\n",
       "    <tr>\n",
       "      <th>2025</th>\n",
       "      <td>0.034054</td>\n",
       "    </tr>\n",
       "    <tr>\n",
       "      <th>...</th>\n",
       "      <td>...</td>\n",
       "    </tr>\n",
       "    <tr>\n",
       "      <th>2116</th>\n",
       "      <td>0.041568</td>\n",
       "    </tr>\n",
       "    <tr>\n",
       "      <th>2117</th>\n",
       "      <td>0.041563</td>\n",
       "    </tr>\n",
       "    <tr>\n",
       "      <th>2118</th>\n",
       "      <td>0.041559</td>\n",
       "    </tr>\n",
       "    <tr>\n",
       "      <th>2119</th>\n",
       "      <td>0.041555</td>\n",
       "    </tr>\n",
       "    <tr>\n",
       "      <th>2120</th>\n",
       "      <td>0.041551</td>\n",
       "    </tr>\n",
       "  </tbody>\n",
       "</table>\n",
       "<p>100 rows × 1 columns</p>\n",
       "</div>"
      ],
      "text/plain": [
       "            YC\n",
       "2021  0.009950\n",
       "2022  0.019902\n",
       "2023  0.025909\n",
       "2024  0.030541\n",
       "2025  0.034054\n",
       "...        ...\n",
       "2116  0.041568\n",
       "2117  0.041563\n",
       "2118  0.041559\n",
       "2119  0.041555\n",
       "2120  0.041551\n",
       "\n",
       "[100 rows x 1 columns]"
      ]
     },
     "execution_count": 53,
     "metadata": {},
     "output_type": "execute_result"
    }
   ],
   "source": [
    "yc=pd.DataFrame(yields,columns=['YC'],index=list(range(2021,2121)))\n",
    "yc"
   ]
  },
  {
   "cell_type": "code",
   "execution_count": 54,
   "metadata": {},
   "outputs": [],
   "source": [
    "yc.to_csv(\"sample_yc_using_SW.csv\")"
   ]
  }
 ],
 "metadata": {
  "kernelspec": {
   "display_name": "Python 3",
   "language": "python",
   "name": "python3"
  },
  "language_info": {
   "codemirror_mode": {
    "name": "ipython",
    "version": 3
   },
   "file_extension": ".py",
   "mimetype": "text/x-python",
   "name": "python",
   "nbconvert_exporter": "python",
   "pygments_lexer": "ipython3",
   "version": "3.8.3"
  }
 },
 "nbformat": 4,
 "nbformat_minor": 4
}
