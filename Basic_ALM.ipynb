{
 "cells": [
  {
   "cell_type": "code",
   "execution_count": 1,
   "metadata": {},
   "outputs": [],
   "source": [
    "import pandas as pd\n",
    "import numpy as np\n",
    "from matplotlib import pyplot as plt\n",
    "from jupyter_dash import JupyterDash\n",
    "import dash_core_components as dcc\n",
    "import dash_html_components as html\n",
    "from dash.dependencies import Input, Output\n",
    "import dash_table"
   ]
  },
  {
   "cell_type": "code",
   "execution_count": 2,
   "metadata": {},
   "outputs": [],
   "source": [
    "def funded_ratio(asset_cfs,liability_cfs):\n",
    "    ratio= asset_cfs.sum()/liability_cfs.sum()\n",
    "    return \"{:.4f}\".format(ratio)"
   ]
  },
  {
   "cell_type": "code",
   "execution_count": 3,
   "metadata": {},
   "outputs": [],
   "source": [
    "def dur_gap(cashflows, yields, delta_y):\n",
    "    \"\"\"\n",
    "    Returns the duration gap where duration is computed using the Effective Duration formula.\n",
    "    \n",
    "    Cashflows:dataframe with asset and liability cashflows labeled \"Asset CFs\" and \"Liab CFs\"\n",
    "    yields:   dataframe with columns \\'Year\\' and \\'YC\\' where \\'YC\\' represents base yields\n",
    "    delta_y:  value in decimal, e.g. 0.005 for 0.5%\n",
    "    \"\"\"\n",
    "    \n",
    "    #Create yields considering +/- delta_y change\n",
    "    yields['YC + delta_y']=yields['YC']+delta_y\n",
    "    yields['YC - delta_y']=yields['YC']-delta_y\n",
    "    #Change yields to discount factors(df)\n",
    "    t_array=np.array(list(range(1,len(yields)+1)))\n",
    "    cols=['YC','YC + delta_y','YC - delta_y']\n",
    "    df=pd.DataFrame([np.exp(-yields[col]*t_array) for col in cols]).transpose()\n",
    "    #Get Present Values\n",
    "    asset_values=df.multiply(cashflows['Asset CFs'],axis=0).sum()\n",
    "    liab_values=df.multiply(cashflows['Liab CFs'],axis=0).sum()\n",
    "    \n",
    "    asset_dur=(asset_values['YC - delta_y']-asset_values['YC + delta_y'])/(2*delta_y*asset_values['YC'])\n",
    "    liab_dur=(liab_values['YC - delta_y']-liab_values['YC + delta_y'])/(2*delta_y*liab_values['YC'])\n",
    "    dur_gap=asset_dur-liab_dur\n",
    "    \n",
    "    print (\"Asset Duration is {:.2f}\".format(asset_dur),'\\n'\n",
    "           \"Liability Duration is {:.2f}\".format(liab_dur),'\\n'\n",
    "           \"Duration Gap is {:.2f}\".format(dur_gap))"
   ]
  },
  {
   "cell_type": "code",
   "execution_count": 5,
   "metadata": {},
   "outputs": [],
   "source": [
    "yields=pd.read_csv(\"sample_yc_using_SW.csv\")\n",
    "yields.rename(columns={\"Unnamed: 0\":'Year'},inplace=True)\n",
    "cfs=pd.read_csv(\"sample CFs.csv\")\n",
    "cfs.fillna(0,inplace=True)\n",
    "#Set change in yield as 0.5%\n",
    "delta_y=0.005 "
   ]
  },
  {
   "cell_type": "code",
   "execution_count": 7,
   "metadata": {},
   "outputs": [
    {
     "data": {
      "text/plain": [
       "'1.0252'"
      ]
     },
     "execution_count": 7,
     "metadata": {},
     "output_type": "execute_result"
    }
   ],
   "source": [
    "funded_ratio(cfs['Asset CFs'],cfs['Liab CFs'])"
   ]
  },
  {
   "cell_type": "code",
   "execution_count": 8,
   "metadata": {},
   "outputs": [
    {
     "name": "stdout",
     "output_type": "stream",
     "text": [
      "Asset Duration is 4.41 \n",
      "Liability Duration is 22.66 \n",
      "Duration Gap is -18.25\n"
     ]
    }
   ],
   "source": [
    "dur_gap(cfs,yields,delta_y)"
   ]
  },
  {
   "cell_type": "code",
   "execution_count": 6,
   "metadata": {},
   "outputs": [
    {
     "data": {
      "image/png": "[encoded data removed]",
      "text/plain": [
       "<Figure size 432x288 with 1 Axes>"
      ]
     },
     "metadata": {
      "needs_background": "light"
     },
     "output_type": "display_data"
    }
   ],
   "source": [
    "fig=plt.figure()\n",
    "ax = fig.add_axes([0,0,1,1])\n",
    "x_axis=cfs['Year']\n",
    "y_axis=cfs['Asset CFs']\n",
    "ax.bar(x_axis,cfs['Asset CFs'],color='b')\n",
    "ax.bar(x_axis,-cfs['Liab CFs'],color='r')\n",
    "ax.legend(['Asset Cashflows','Liability Cashflows'])\n",
    "ax.set_title('Cashflow Plot')\n",
    "plt.show()"
   ]
  }
 ],
 "metadata": {
  "kernelspec": {
   "display_name": "Python 3",
   "language": "python",
   "name": "python3"
  },
  "language_info": {
   "codemirror_mode": {
    "name": "ipython",
    "version": 3
   },
   "file_extension": ".py",
   "mimetype": "text/x-python",
   "name": "python",
   "nbconvert_exporter": "python",
   "pygments_lexer": "ipython3",
   "version": "3.8.3"
  }
 },
 "nbformat": 4,
 "nbformat_minor": 4
}
